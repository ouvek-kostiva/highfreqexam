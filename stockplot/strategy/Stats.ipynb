{
 "cells": [
  {
   "cell_type": "code",
   "execution_count": null,
   "metadata": {
    "collapsed": false
   },
   "outputs": [],
   "source": [
    "def getListedCode(typ=\"twse\",codeLength=4):\n",
    "    import sqlite3\n",
    "    sqlite_file = \"list.db\" #上市上櫃下市 股票代號列表 資料庫檔案\n",
    "    conn = sqlite3.connect(sqlite_file)\n",
    "    c = conn.cursor()\n",
    "    out = conn.execute(\"SELECT code, type FROM StockList WHERE type LIKE ? AND length(code) == ? \",(\"twse\",codeLength)) \n",
    "    # 取 代號4碼 類別上市 股票代號\n",
    "    codeList = []\n",
    "    for i, row in enumerate(out):\n",
    "        codeList.append(row[0])\n",
    "    conn.close()\n",
    "    print(\"取得股票代號總數:\", len(codeList)) #codeList 為取出股票代號列表\n",
    "    return codeList\n",
    "print(\"getListedCode loaded\")\n",
    "\n",
    "codeList = getListedCode()\n",
    "\n",
    "def getStrategyData(code,startdate,enddate,dbname=\"buysell.db\",table=\"twse\"):\n",
    "    import sqlite3\n",
    "    conn = sqlite3.connect(dbname)\n",
    "    c = conn.cursor()\n",
    "    out = conn.execute(\"SELECT * FROM twse WHERE code LIKE ? AND date between ? and ?\",(code,startdate,enddate))\n",
    "    dataList = []\n",
    "    for i in out:\n",
    "        dataList.append(i)\n",
    "    conn.close()\n",
    "    return dataList\n",
    "\n",
    "dataList = getStrategyData(\"1101\",\"2016-05-25\",\"2017-05-25\")\n",
    "lastData = getStrategyData(\"1101\",\"2017-05-24\",\"2017-05-25\",\"PriceVolData.db\")\n",
    "print(\"lastData:\",lastData[0][6])\n",
    "sellcount = 0\n",
    "buycount = 0\n",
    "selldata = []\n",
    "buydata = []\n",
    "for i in dataList:\n",
    "    #print(\"Code:\",i[1],\"Open:\",i[6],\"Action:\",i[8])\n",
    "    if \"sell\" == i[8]:\n",
    "        sellcount = sellcount + 1\n",
    "        selldata.append([i[1],i[6],i[8]])\n",
    "    if \"buy\" == i[8]:\n",
    "        buycount = buycount + 1\n",
    "        buydata.append([i[1],i[6],i[8]])\n",
    "\n",
    "print(\"Buy:\",buydata,\"Sell:\",selldata)\n",
    "print(\"Buy:\",buycount,\"張 Sell:\",sellcount,\"張\")\n",
    "\n",
    "profit = 0\n",
    "for buy,sell in zip(buydata,selldata):\n",
    "    profit = profit + (sell[1] - buy[1])\n",
    "    buydata.pop()\n",
    "    selldata.pop()\n",
    "    print(\"Profit:\",profit,\"Buy:\",buy[1],\"Sell:\",sell[1])\n",
    "if buycount > sellcount:\n",
    "    for i in buydata:\n",
    "        profit = profit + (lastData[0][6]-i[1])\n",
    "        print(\"Profit:\",profit,\"Clear:\",lastData[0][6],\"Buy:\",i[1])\n",
    "print(profit)"
   ]
  },
  {
   "cell_type": "code",
   "execution_count": 17,
   "metadata": {
    "collapsed": false
   },
   "outputs": [
    {
     "name": "stdout",
     "output_type": "stream",
     "text": [
      "取得股票代號總數: 913\n",
      "Profit Sum: 15752.909999999996 Win Sum: 4431 Lose Sum: 3474\n"
     ]
    }
   ],
   "source": [
    "def getListedCode(typ=\"twse\",codeLength=4):\n",
    "    import sqlite3\n",
    "    sqlite_file = \"list.db\" #上市上櫃下市 股票代號列表 資料庫檔案\n",
    "    conn = sqlite3.connect(sqlite_file)\n",
    "    c = conn.cursor()\n",
    "    out = conn.execute(\"SELECT code, type FROM StockList WHERE type LIKE ? AND length(code) == ? \",(\"twse\",codeLength)) \n",
    "    # 取 代號4碼 類別上市 股票代號\n",
    "    codeList = []\n",
    "    for i, row in enumerate(out):\n",
    "        codeList.append(row[0])\n",
    "    conn.close()\n",
    "    print(\"取得股票代號總數:\", len(codeList)) #codeList 為取出股票代號列表\n",
    "    return codeList\n",
    "\n",
    "def getStrategyData(code,startdate,enddate,dbname=\"buysell.db\",table=\"twse\"):\n",
    "    import sqlite3\n",
    "    conn = sqlite3.connect(dbname)\n",
    "    c = conn.cursor()\n",
    "    out = conn.execute(\"SELECT * FROM twse WHERE code LIKE ? AND date between ? and ?\",(code,startdate,enddate))\n",
    "    dataList = []\n",
    "    for i in out:\n",
    "        dataList.append(i)\n",
    "    conn.close()\n",
    "    return dataList\n",
    "\n",
    "def getLastDate(code,dbname=\"PriceVolData.db\",table=\"twse\"):\n",
    "    import sqlite3\n",
    "    conn = sqlite3.connect(dbname)\n",
    "    c = conn.cursor()\n",
    "    out = conn.execute(\"SELECT * FROM twse WHERE code LIKE ? ORDER BY date DESC LIMIT 1\",(code,))\n",
    "    dataList = []\n",
    "    for i in out:\n",
    "        dataList.append(i)\n",
    "    conn.close()\n",
    "    return dataList\n",
    "\n",
    "def getStats(dataList,lastData):\n",
    "    sellcount = 0\n",
    "    buycount = 0\n",
    "    selldata = []\n",
    "    buydata = []\n",
    "    for i in dataList:\n",
    "        #print(\"Code:\",i[1],\"Open:\",i[6],\"Action:\",i[8])\n",
    "        if \"sell\" == i[8]:\n",
    "            sellcount = sellcount + 1\n",
    "            selldata.append([i[1],i[6],i[8]])\n",
    "        if \"buy\" == i[8]:\n",
    "            buycount = buycount + 1\n",
    "            buydata.append([i[1],i[6],i[8]])\n",
    "\n",
    "    #print(\"Buy:\",buydata,\"Sell:\",selldata)\n",
    "    #print(\"Buy:\",buycount,\"張 Sell:\",sellcount,\"張\")\n",
    "\n",
    "    profit = 0\n",
    "    win = 0\n",
    "    lose = 0\n",
    "    costList = []\n",
    "    for buy,sell in zip(buydata,selldata):\n",
    "        difference = sell[1] - buy[1]\n",
    "        costList.append([\"Code: {}\".format(dataList[0][1]),\"Buy: {}\".format(buy[1]),\"Profit: {}\".format(difference)])\n",
    "        profit = profit + difference\n",
    "        if 0 < (sell[1] - buy[1]):\n",
    "            win = win + 1\n",
    "        else:\n",
    "            lose = lose + 1\n",
    "        buydata.pop()\n",
    "        selldata.pop()\n",
    "        #print(\"Profit:\",profit,\"Buy:\",buy[1],\"Sell:\",sell[1])\n",
    "    if buycount > sellcount:\n",
    "        #print(lastData)\n",
    "        for i in buydata:\n",
    "            difference = lastData[0][6]-i[1]\n",
    "            costList.append([\"Code: {}\".format(dataList[0][1]),\"Buy: {}\".format(i[1]),\"Profit: {}\".format(difference)])\n",
    "            profit = profit + difference\n",
    "            if 0 < (lastData[0][6]-i[1]):\n",
    "                win = win + 1\n",
    "            else:\n",
    "                lose = lose + 1\n",
    "            #print(\"Profit:\",profit,\"Clear:\",lastData[0][6],\"Buy:\",i[1])\n",
    "    else:\n",
    "        for i in selldata:\n",
    "            difference = lastData[0][6]-i[1]\n",
    "            costList.append([\"Code: {}\".format(dataList[0][1]),\"Sell: {}\".format(i[1]),\"Profit: {}\".format(difference)])\n",
    "            profit = profit + difference\n",
    "            if 0 < (lastData[0][6]-i[1]):\n",
    "                win = win + 1\n",
    "            else:\n",
    "                lose = lose + 1\n",
    "            #print(\"Profit:\",profit,\"Clear:\",lastData[0][6],\"Buy:\",i[1])\n",
    "    return profit,win,lose,costList\n",
    "\n",
    "profitList = []\n",
    "profitSum = 0\n",
    "winSum = 0\n",
    "loseSum = 0\n",
    "codeList = getListedCode()\n",
    "costListData = []\n",
    "for code in codeList:\n",
    "    dataList = getStrategyData(code,\"2016-05-25\",\"2017-05-25\")\n",
    "    lastData = getLastDate(code,dbname=\"PriceVolData.db\",table=\"twse\")\n",
    "    profit,win,lose,costList = getStats(dataList,lastData)\n",
    "    costListData.append(costList)\n",
    "    profitList.append([\"Code:{}\".format(code),\"Profit:{}\".format(profit)])\n",
    "    profitSum = profitSum + profit\n",
    "    winSum = winSum + win\n",
    "    loseSum = loseSum + lose\n",
    "    \n",
    "import pickle\n",
    "pickle.dump(costListData,open('costListData.pkl', 'wb'))\n",
    "print(\"Profit Sum:\",profitSum,\"Win Sum:\",winSum,\"Lose Sum:\",loseSum)"
   ]
  },
  {
   "cell_type": "code",
   "execution_count": 3,
   "metadata": {
    "collapsed": false
   },
   "outputs": [
    {
     "ename": "NameError",
     "evalue": "name 'costListData' is not defined",
     "output_type": "error",
     "traceback": [
      "\u001b[0;31m---------------------------------------------------------------------------\u001b[0m",
      "\u001b[0;31mNameError\u001b[0m                                 Traceback (most recent call last)",
      "\u001b[0;32m<ipython-input-3-d0e859f73c33>\u001b[0m in \u001b[0;36m<module>\u001b[0;34m()\u001b[0m\n\u001b[0;32m----> 1\u001b[0;31m \u001b[1;32mfor\u001b[0m \u001b[0mi\u001b[0m \u001b[1;32min\u001b[0m \u001b[0mcostListData\u001b[0m\u001b[1;33m[\u001b[0m\u001b[1;36m1\u001b[0m\u001b[1;33m]\u001b[0m\u001b[1;33m[\u001b[0m\u001b[1;36m0\u001b[0m\u001b[1;33m:\u001b[0m\u001b[1;36m50\u001b[0m\u001b[1;33m]\u001b[0m\u001b[1;33m:\u001b[0m\u001b[1;33m\u001b[0m\u001b[0m\n\u001b[0m\u001b[1;32m      2\u001b[0m     \u001b[0mprint\u001b[0m\u001b[1;33m(\u001b[0m\u001b[0mi\u001b[0m\u001b[1;33m)\u001b[0m\u001b[1;33m\u001b[0m\u001b[0m\n",
      "\u001b[0;31mNameError\u001b[0m: name 'costListData' is not defined"
     ]
    }
   ],
   "source": [
    "for i in costListData[1][0:50]:\n",
    "    print(i)"
   ]
  },
  {
   "cell_type": "code",
   "execution_count": 7,
   "metadata": {
    "collapsed": false
   },
   "outputs": [
    {
     "data": {
      "text/plain": [
       "('Database', 'ProfitCosty1617.db', ' Successfully Created!')"
      ]
     },
     "execution_count": 7,
     "metadata": {},
     "output_type": "execute_result"
    }
   ],
   "source": [
    "def createDatabase(dbName,tableName):\n",
    "    import os\n",
    "    if os.path.isfile(dbName):\n",
    "        return \"Database name already exists: \", dbName\n",
    "    else:    \n",
    "        import sqlite3\n",
    "        sqlite_file = dbName\n",
    "        conn = sqlite3.connect(sqlite_file)\n",
    "        c = conn.cursor()\n",
    "        c.execute('CREATE TABLE {tn} (id INTEGER PRIMARY KEY, code TEXT NOT NULL, type TEXT NOT NULL, cost REAL, profit REAL)'.format(tn=tableName)) \n",
    "        conn.commit()\n",
    "        conn.close()\n",
    "        return \"Database\",dbName,\" Successfully Created!\"\n",
    "    \n",
    "createDatabase(\"ProfitCosty1617.db\",\"twseprofit\")"
   ]
  },
  {
   "cell_type": "code",
   "execution_count": 8,
   "metadata": {
    "collapsed": false
   },
   "outputs": [
    {
     "name": "stdout",
     "output_type": "stream",
     "text": [
      "count 7800 errCost 105\n"
     ]
    }
   ],
   "source": [
    "def insertData(dbName, costListData):\n",
    "    import sqlite3\n",
    "    conn = sqlite3.connect(dbName)\n",
    "    c = conn.cursor()\n",
    "    count = 0\n",
    "    errCost = 0\n",
    "    for codes in costListData:\n",
    "        for quote in codes:\n",
    "            code = quote[0][6:]\n",
    "            profit = quote[2][8:]\n",
    "            if 'B' == quote[1][0]:\n",
    "                typ = \"Buy\"\n",
    "                cost = quote[1][5:]\n",
    "            elif 'S' == quote[1][0]:\n",
    "                typ = \"Sell\"\n",
    "                cost = quote[1][6:]\n",
    "            else:\n",
    "                print(\"Code:\", quote, \"Type Error\", quote)\n",
    "            if not float(cost):\n",
    "                errCost = errCost+1\n",
    "            else:\n",
    "                conn.execute(\"INSERT INTO twseprofit (code, type, cost, profit) VALUES (?,?,?,?)\",(code, typ, cost, profit))\n",
    "                count = count + 1\n",
    "    conn.commit()\n",
    "    conn.close()\n",
    "    return count, errCost\n",
    "\n",
    "import pickle\n",
    "costListData = pickle.load(open('costListData.pkl', 'rb'))\n",
    "count, errCost = insertData(\"ProfitCosty1617.db\", costListData)\n",
    "print(\"count\",count,\"errCost\",errCost)"
   ]
  },
  {
   "cell_type": "code",
   "execution_count": 47,
   "metadata": {
    "collapsed": false,
    "scrolled": true
   },
   "outputs": [
    {
     "name": "stdout",
     "output_type": "stream",
     "text": [
      "Code: C Type Error Code: 1102\n",
      "C | Sell | 30.8 | \n",
      "Code: B Type Error Buy: 28.7\n",
      "B | Sell | 30.8 | \n",
      "Code: P Type Error Profit: -2.9499999999999993\n",
      "P | Sell | 30.8 | \n",
      "Code: C Type Error Code: 1102\n",
      "C | Sell | 30.8 | \n",
      "Code: B Type Error Buy: 28.0\n",
      "B | Sell | 30.8 | \n",
      "Code: P Type Error Profit: 1.1000000000000014\n",
      "P | Sell | 30.8 | \n",
      "Code: C Type Error Code: 1102\n",
      "C | Sell | 30.8 | \n",
      "Code: B Type Error Buy: 26.65\n",
      "B | Sell | 30.8 | \n",
      "Code: P Type Error Profit: 2.3500000000000014\n",
      "P | Sell | 30.8 | \n",
      "Code: C Type Error Code: 1102\n",
      "C | Sell | 30.8 | \n",
      "Code: S Type Error Sell: 25.75\n",
      "S | Sell | 30.8 | \n",
      "Code: P Type Error Profit: 2.4499999999999993\n",
      "P | Sell | 30.8 | \n",
      "Code: C Type Error Code: 1102\n",
      "C | Sell | 30.8 | \n",
      "Code: S Type Error Sell: 29.1\n",
      "S | Sell | 30.8 | \n",
      "Code: P Type Error Profit: -0.9000000000000021\n",
      "P | Sell | 30.8 | \n",
      "Code: C Type Error Code: 1102\n",
      "C | Sell | 30.8 | \n",
      "Code: S Type Error Sell: 29.0\n",
      "S | Sell | 30.8 | \n",
      "Code: P Type Error Profit: -0.8000000000000007\n",
      "P | Sell | 30.8 | \n",
      "Code: C Type Error Code: 1102\n",
      "C | Sell | 30.8 | \n",
      "Code: S Type Error Sell: 30.8\n",
      "S | Sell | 30.8 | \n",
      "Code: P Type Error Profit: -2.6000000000000014\n",
      "P | Sell | 30.8 | \n"
     ]
    }
   ],
   "source": [
    "for codes in costListData:\n",
    "    for quote in codes:\n",
    "        code = quote[0]#[6:]\n",
    "        profit = quote[2][8:]\n",
    "        if 'B' == quote[1][0]:\n",
    "            typ = \"Buy\"\n",
    "            cost = quote[1][5:]\n",
    "        elif 'S' == quote[1][0]:\n",
    "            typ = \"Sell\"\n",
    "            cost = quote[1][6:]\n",
    "        else:\n",
    "            print(\"Code:\", quote[0], \"Type Error\", quote)\n",
    "        print(code,\"|\", typ,\"|\", cost,\"|\", profit)"
   ]
  },
  {
   "cell_type": "code",
   "execution_count": 3,
   "metadata": {
    "collapsed": false,
    "scrolled": true
   },
   "outputs": [
    {
     "name": "stdout",
     "output_type": "stream",
     "text": [
      "取得股票代號總數: 913\n",
      "['Code:1101', 'ROI:-0.048814504881450484']\n"
     ]
    }
   ],
   "source": [
    "def getListedCode(typ=\"twse\",codeLength=4):\n",
    "    import sqlite3\n",
    "    sqlite_file = \"list.db\" #上市上櫃下市 股票代號列表 資料庫檔案\n",
    "    conn = sqlite3.connect(sqlite_file)\n",
    "    c = conn.cursor()\n",
    "    out = conn.execute(\"SELECT code, type FROM StockList WHERE type LIKE ? AND length(code) == ? \",(\"twse\",codeLength)) \n",
    "    # 取 代號4碼 類別上市 股票代號\n",
    "    codeList = []\n",
    "    for i, row in enumerate(out):\n",
    "        codeList.append(row[0])\n",
    "    conn.close()\n",
    "    print(\"取得股票代號總數:\", len(codeList)) #codeList 為取出股票代號列表\n",
    "    return codeList\n",
    "\n",
    "def getProfits(code):\n",
    "    import sqlite3\n",
    "    conn = sqlite3.connect(\"ProfitCosty1617.db\")\n",
    "    c = conn.cursor()\n",
    "    out = conn.execute(\"SELECT * FROM twseprofit WHERE code LIKE ?\",(code,))\n",
    "    dataList = []\n",
    "    for i in out:\n",
    "        dataList.append(i)\n",
    "    conn.close()\n",
    "    return dataList\n",
    "\n",
    "codeList = getListedCode()\n",
    "\n",
    "roiByCode = []\n",
    "errCost = 0\n",
    "posProfit = 0\n",
    "negProfit = 0\n",
    "for code in codeList:\n",
    "    dataList = getProfits(code)\n",
    "    roi = []\n",
    "    totalProfit = 0\n",
    "    transactionx = 0\n",
    "    for i in dataList:\n",
    "        cost = i[3]\n",
    "        profit = i[4]\n",
    "        if not cost:\n",
    "            #print(i, cost)\n",
    "            errCost = errCost + 1\n",
    "        else:\n",
    "            if profit > 0: posProfit = posProfit + 1\n",
    "            if profit < 0: negProfit = negProfit + 1\n",
    "            roi = profit/cost\n",
    "            roiByCode.append([\"Code:{}\".format(code),\"ROI:{}\".format(roi)])\n",
    "\n",
    "print(roiByCode[0])"
   ]
  },
  {
   "cell_type": "code",
   "execution_count": 4,
   "metadata": {
    "collapsed": false
   },
   "outputs": [
    {
     "ename": "NameError",
     "evalue": "name 'sumProfit' is not defined",
     "output_type": "error",
     "traceback": [
      "\u001b[0;31m---------------------------------------------------------------------------\u001b[0m",
      "\u001b[0;31mNameError\u001b[0m                                 Traceback (most recent call last)",
      "\u001b[0;32m<ipython-input-4-d7e234630e79>\u001b[0m in \u001b[0;36m<module>\u001b[0;34m()\u001b[0m\n\u001b[0;32m----> 1\u001b[0;31m \u001b[0mprint\u001b[0m\u001b[1;33m(\u001b[0m\u001b[0msumProfit\u001b[0m\u001b[1;33m)\u001b[0m\u001b[1;33m\u001b[0m\u001b[0m\n\u001b[0m\u001b[1;32m      2\u001b[0m \u001b[0mprint\u001b[0m\u001b[1;33m(\u001b[0m\u001b[0mroiByCode\u001b[0m\u001b[1;33m[\u001b[0m\u001b[1;36m0\u001b[0m\u001b[1;33m:\u001b[0m\u001b[1;36m5\u001b[0m\u001b[1;33m]\u001b[0m\u001b[1;33m,\u001b[0m\u001b[0merrCost\u001b[0m\u001b[1;33m,\u001b[0m \u001b[0mposProfit\u001b[0m\u001b[1;33m,\u001b[0m \u001b[0mnegProfit\u001b[0m\u001b[1;33m)\u001b[0m\u001b[1;33m\u001b[0m\u001b[0m\n",
      "\u001b[0;31mNameError\u001b[0m: name 'sumProfit' is not defined"
     ]
    }
   ],
   "source": [
    "\n",
    "print(roiByCode[0:5])"
   ]
  },
  {
   "cell_type": "code",
   "execution_count": 6,
   "metadata": {
    "collapsed": true
   },
   "outputs": [],
   "source": [
    "import pickle\n",
    "pickle.dump(roiByCode,open('roiByCode.pkl', 'wb'))"
   ]
  },
  {
   "cell_type": "code",
   "execution_count": 26,
   "metadata": {
    "collapsed": false
   },
   "outputs": [
    {
     "name": "stdout",
     "output_type": "stream",
     "text": [
      "['Code:1101', 'Sum:-0.048814504881450484', 'Mean:-0.048814504881450484', 'Max:-0.048814504881450484', 'Min:-0.048814504881450484']\n"
     ]
    }
   ],
   "source": [
    "quoteRoi = []\n",
    "for i in roiByCode:\n",
    "    quoteRoi.append([i[0],i[1]])\n",
    "#print(max(quoteRoi, key=lambda item: item[1]))\n",
    "\n",
    "print(roiByCode[0])"
   ]
  },
  {
   "cell_type": "code",
   "execution_count": 1,
   "metadata": {
    "collapsed": false
   },
   "outputs": [
    {
     "data": {
      "text/plain": [
       "7800"
      ]
     },
     "execution_count": 1,
     "metadata": {},
     "output_type": "execute_result"
    }
   ],
   "source": [
    "import pickle\n",
    "roiByCode = pickle.load(open('roiByCode.pkl', 'rb'))\n",
    "\n",
    "def createDatabase(dbName,tableName):\n",
    "    import os\n",
    "    if os.path.isfile(dbName):\n",
    "        return \"Database name already exists: \", dbName\n",
    "    else:    \n",
    "        import sqlite3\n",
    "        sqlite_file = dbName\n",
    "        conn = sqlite3.connect(sqlite_file)\n",
    "        c = conn.cursor()\n",
    "        c.execute('CREATE TABLE {tn} (id INTEGER PRIMARY KEY, code TEXT NOT NULL, roi REAL)'.format(tn=tableName)) \n",
    "        conn.commit()\n",
    "        conn.close()\n",
    "        return \"Database\",dbName,\" Successfully Created!\"\n",
    "    \n",
    "def insertData(dbName, tableName, roiByCode):\n",
    "    import sqlite3\n",
    "    conn = sqlite3.connect(dbName)\n",
    "    c = conn.cursor()\n",
    "    count = 0\n",
    "    for code, roi in roiByCode:\n",
    "        conn.execute(\"INSERT INTO twseROI (code, roi) VALUES (?,?)\",(code[5:], roi[4:]))\n",
    "        count = count + 1\n",
    "    conn.commit()\n",
    "    conn.close()\n",
    "    return count\n",
    "    \n",
    "    \n",
    "createDatabase(\"ROIbyCode.db\",\"twseROI\")\n",
    "insertData(\"ROIbyCode.db\", \"twseROI\", roiByCode)\n"
   ]
  },
  {
   "cell_type": "code",
   "execution_count": 16,
   "metadata": {
    "collapsed": false
   },
   "outputs": [
    {
     "name": "stdout",
     "output_type": "stream",
     "text": [
      "9188\n"
     ]
    }
   ],
   "source": [
    "def getStrategyData(code,startdate,enddate,dbname=\"buysell.db\",table=\"twse\"):\n",
    "    import sqlite3\n",
    "    conn = sqlite3.connect(dbname)\n",
    "    c = conn.cursor()\n",
    "    out = conn.execute(\"SELECT * FROM twse WHERE code LIKE ? AND date between ? and ?\",(code,startdate,enddate))\n",
    "    dataList = []\n",
    "    for i in out:\n",
    "        dataList.append(i)\n",
    "    conn.close()\n",
    "    return dataList\n",
    "\n",
    "dataList = getStrategyData(code,\"2016-05-25\",\"2017-05-25\")\n",
    "print(dataList[0][1])"
   ]
  },
  {
   "cell_type": "code",
   "execution_count": 2,
   "metadata": {
    "collapsed": false
   },
   "outputs": [
    {
     "name": "stdout",
     "output_type": "stream",
     "text": [
      "[(2455, '1101', '2017-05-26 13:30:00', 34.65, 34.85, 34.55, 34.7, 4339000.0)]\n"
     ]
    }
   ],
   "source": [
    "def getLastDate(code,dbname=\"PriceVolData.db\",table=\"twse\"):\n",
    "    import sqlite3\n",
    "    conn = sqlite3.connect(dbname)\n",
    "    c = conn.cursor()\n",
    "    out = conn.execute(\"SELECT * FROM twse WHERE code LIKE ? ORDER BY date DESC LIMIT 1\",(code,))\n",
    "    dataList = []\n",
    "    for i in out:\n",
    "        dataList.append(i)\n",
    "    conn.close()\n",
    "    return dataList\n",
    "\n",
    "l = getLastDate(1101)\n",
    "print(l)"
   ]
  },
  {
   "cell_type": "code",
   "execution_count": 6,
   "metadata": {
    "collapsed": false
   },
   "outputs": [
    {
     "name": "stdout",
     "output_type": "stream",
     "text": [
      "['Code:1101', 'Profit:-9.599999999999973']\n",
      "['Code:1102', 'Profit:-1.3500000000000014']\n",
      "['Code:1103', 'Profit:0.9000000000000004']\n",
      "['Code:1104', 'Profit:14.299999999999994']\n",
      "['Code:1108', 'Profit:1.9000000000000004']\n",
      "勝率: 0.5605313092979127\n"
     ]
    }
   ],
   "source": [
    "import pickle\n",
    "pickle.dump(profitList, open( \"profitList.pkl\", \"wb\" ) )\n",
    "profList = pickle.load( open( \"profitList.pkl\", \"rb\" ) )\n",
    "\n",
    "for i in profList[0:5]:\n",
    "    print(i)\n",
    "    \n",
    "print(\"勝率:\", winSum/(loseSum+winSum))\n",
    "    \n",
    "#取得股票代號總數: 913\n",
    "#Profit Sum: 12492.109999999988 Win Sum: 3373 Lose Sum: 2916"
   ]
  },
  {
   "cell_type": "code",
   "execution_count": 8,
   "metadata": {
    "collapsed": false
   },
   "outputs": [
    {
     "name": "stdout",
     "output_type": "stream",
     "text": [
      "createTable loaded\n",
      "('Table', 'profit', ' Successfully Created!')\n"
     ]
    }
   ],
   "source": [
    "def createTable(dbName,tableName):\n",
    "    import os\n",
    "    import sqlite3\n",
    "    sqlite_file = dbName\n",
    "    conn = sqlite3.connect(sqlite_file)\n",
    "    c = conn.cursor()\n",
    "    c.execute('CREATE TABLE {tn} (indexColumn INTEGER PRIMARY KEY, code TEXT NOT NULL, profit REAL NOT NULL)'.format(tn=tableName)) \n",
    "    conn.commit()\n",
    "    conn.close()\n",
    "    return \"Table\",tableName,\" Successfully Created!\"\n",
    "print(\"createTable loaded\")\n",
    "\n",
    "dbName = \"PriceVolData.db\"\n",
    "tableName = \"profit\"\n",
    "print(createTable(dbName,tableName))"
   ]
  },
  {
   "cell_type": "code",
   "execution_count": 29,
   "metadata": {
    "collapsed": false
   },
   "outputs": [
    {
     "name": "stdout",
     "output_type": "stream",
     "text": [
      "insertData loaded\n"
     ]
    },
    {
     "data": {
      "text/plain": [
       "913"
      ]
     },
     "execution_count": 29,
     "metadata": {},
     "output_type": "execute_result"
    }
   ],
   "source": [
    "def insertData(dbName, tableName, dataList):\n",
    "    import sqlite3\n",
    "    conn = sqlite3.connect(dbName)\n",
    "    c = conn.cursor()\n",
    "    count = 0\n",
    "    for code, profit in dataList:\n",
    "        conn.execute(\"INSERT INTO profit (code, profit) VALUES (?,?)\",(code, profit))\n",
    "        count = count + 1\n",
    "    conn.commit()\n",
    "    conn.close()\n",
    "    return count\n",
    "print(\"insertData loaded\")\n",
    "\n",
    "dbName = \"PriceVolData.db\"\n",
    "tableName = \"profit\"\n",
    "import pickle\n",
    "pickle.dump(profitList, open( \"profitList.pkl\", \"wb\" ) )\n",
    "profList = pickle.load( open( \"profitList.pkl\", \"rb\" ) )\n",
    "\n",
    "newDataList = []\n",
    "for i in profList:\n",
    "    newDataList.append([str(i[0])[7:-2],str(i[1])[9:-2]])\n",
    "insertData(dbName, tableName, newDataList)"
   ]
  }
 ],
 "metadata": {
  "kernelspec": {
   "display_name": "Python 3",
   "language": "python",
   "name": "python3"
  },
  "language_info": {
   "codemirror_mode": {
    "name": "ipython",
    "version": 3
   },
   "file_extension": ".py",
   "mimetype": "text/x-python",
   "name": "python",
   "nbconvert_exporter": "python",
   "pygments_lexer": "ipython3",
   "version": "3.6.0"
  }
 },
 "nbformat": 4,
 "nbformat_minor": 2
}
